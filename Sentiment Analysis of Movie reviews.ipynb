{
 "cells": [
  {
   "attachments": {},
   "cell_type": "markdown",
   "metadata": {},
   "source": [
    "# Imports"
   ]
  },
  {
   "cell_type": "code",
   "execution_count": 1,
   "metadata": {},
   "outputs": [],
   "source": [
    "import re \n",
    "import os\n",
    "import string\n",
    "import random\n",
    "from sklearn.svm import SVC\n",
    "import matplotlib.pyplot as plt\n",
    "from sklearn import  naive_bayes\n",
    "from nltk.corpus import stopwords\n",
    "from sklearn.svm import LinearSVC\n",
    "from nltk.tokenize import word_tokenize\n",
    "from sklearn.metrics import accuracy_score\n",
    "from sklearn.linear_model import LogisticRegression\n",
    "from sklearn.model_selection import train_test_split\n",
    "from nltk.stem import PorterStemmer, WordNetLemmatizer\n",
    "from sklearn.feature_extraction.text import TfidfVectorizer\n"
   ]
  },
  {
   "attachments": {},
   "cell_type": "markdown",
   "metadata": {},
   "source": [
    "# Data preprocessing"
   ]
  },
  {
   "cell_type": "code",
   "execution_count": 2,
   "metadata": {},
   "outputs": [],
   "source": [
    "stop_words = stopwords.words(\"english\")\n",
    "stemmer = PorterStemmer()\n",
    "lemmatizer = WordNetLemmatizer()\n",
    "\n",
    "def preprocessing (text):\n",
    "\n",
    "    # Remove punctuation\n",
    "    text = text.translate(str.maketrans('', '', string.punctuation))\n",
    "\n",
    "    # Remove any word containing a number\n",
    "    words = [word for word in text.split() if not re.search('\\d', word)]\n",
    "    \n",
    "    # Remove stop words and apply lemmatization\n",
    "    stemmed_words = [stemmer.stem(word) for word in words if word.casefold() not in stop_words]\n",
    "\n",
    "    # Stem the lemmatized words\n",
    "    lemmatized_words = [lemmatizer.lemmatize(word) for word in stemmed_words]\n",
    "\n",
    "    \n",
    "    return lemmatized_words"
   ]
  },
  {
   "attachments": {},
   "cell_type": "markdown",
   "metadata": {},
   "source": [
    "# Reading the text from the files"
   ]
  },
  {
   "cell_type": "code",
   "execution_count": 3,
   "metadata": {},
   "outputs": [],
   "source": [
    "random.seed(46)\n",
    "# random.seed(46)\n",
    "# 46 -> 86.50%\n",
    "\n",
    "negative = r'review_polarity\\txt_sentoken\\neg'\n",
    "positive = r'review_polarity\\txt_sentoken\\pos'\n",
    "\n",
    "# Load the English stop words\n",
    "documents = []\n",
    "\n",
    "# Loop through the positive and negative folders to read the text files and preprocess it \n",
    "for filename in os.listdir(negative):\n",
    "    if filename.endswith('.txt'):\n",
    "        with open(os.path.join(negative, filename), 'r') as f:\n",
    "            contents = f.read()\n",
    "            documents.append((' '.join(preprocessing(contents)), 0))\n",
    "\n",
    "\n",
    "for filename in os.listdir(positive):\n",
    "    if filename.endswith('.txt'):\n",
    "        with open(os.path.join(positive, filename), 'r') as f:\n",
    "            contents = f.read()\n",
    "            documents.append((' '.join(preprocessing(contents)), 1))\n",
    "\n",
    "\n",
    "\n",
    "# Shuffle the documents to ensure a balanced distribution of labels in the training and test sets\n",
    "random.shuffle(documents)\n",
    "\n",
    "\n",
    "# Split the dataset into features (X) and labels (y)\n",
    "X = [d[0] for d in documents]\n",
    "Y = [d[1] for d in documents]\n",
    "\n",
    "\n",
    "# Split the dataset into training and test sets\n",
    "X_Train, X_Test, Y_Train, Y_Test = train_test_split(X, Y, test_size = 0.2, random_state = 42)\n",
    " \n",
    "\n",
    "# Vectorize the training documents using TF-IDF\n",
    "vectorizer = TfidfVectorizer()\n",
    "X_Train = vectorizer.fit_transform(X_Train)\n",
    "\n",
    "# Vectorize the test documents using TF-IDF\n",
    "X_Test = vectorizer.transform(X_Test)\n",
    "\n"
   ]
  },
  {
   "attachments": {},
   "cell_type": "markdown",
   "metadata": {},
   "source": [
    "# Logistic Regression"
   ]
  },
  {
   "cell_type": "code",
   "execution_count": 4,
   "metadata": {},
   "outputs": [
    {
     "name": "stdout",
     "output_type": "stream",
     "text": [
      "Logistic Regression accuracy: 83.50%\n"
     ]
    }
   ],
   "source": [
    "\n",
    "logreg = LogisticRegression()\n",
    "\n",
    "logreg.fit(X_Train, Y_Train)\n",
    "\n",
    "predicted_labels = logreg.predict(X_Test)\n",
    "\n",
    "LogisticAccuracy = accuracy_score(Y_Test, predicted_labels)\n",
    "\n",
    "print(f'Logistic Regression accuracy: {LogisticAccuracy * 100:.2f}%')\n",
    "\n",
    "# Logistic Regression accuracy: 83.75%\n",
    "\n"
   ]
  },
  {
   "attachments": {},
   "cell_type": "markdown",
   "metadata": {},
   "source": [
    "# SVM"
   ]
  },
  {
   "cell_type": "code",
   "execution_count": 5,
   "metadata": {},
   "outputs": [
    {
     "name": "stdout",
     "output_type": "stream",
     "text": [
      "SVM Accuracy: 85.50%\n"
     ]
    }
   ],
   "source": [
    "\n",
    "svm = SVC(kernel='sigmoid')\n",
    "\n",
    "svm.fit(X_Train, Y_Train)\n",
    "\n",
    "test_predicted_labels = svm.predict(X_Test)\n",
    "\n",
    "svmAccuracy = accuracy_score(Y_Test, test_predicted_labels)\n",
    "\n",
    "print(f'SVM Accuracy: {svmAccuracy * 100:.2f}%')\n",
    "\n",
    "# SVM Accuracy: 85.50%\n"
   ]
  },
  {
   "attachments": {},
   "cell_type": "markdown",
   "metadata": {},
   "source": [
    "# Linear SVM"
   ]
  },
  {
   "cell_type": "code",
   "execution_count": 6,
   "metadata": {},
   "outputs": [
    {
     "name": "stdout",
     "output_type": "stream",
     "text": [
      "Linear SVM Accuracy: 86.75%\n"
     ]
    }
   ],
   "source": [
    "\n",
    "linear_svm = LinearSVC()\n",
    "\n",
    "linear_svm.fit(X_Train, Y_Train)\n",
    "\n",
    "test_predicted_labels = linear_svm.predict(X_Test)\n",
    "\n",
    "linear_svmAccuracy = accuracy_score(Y_Test, test_predicted_labels)\n",
    "\n",
    "print(f'Linear SVM Accuracy: {linear_svmAccuracy * 100:.2f}%')\n",
    "\n",
    "# Linear SVM Accuracy: 86.50%\n"
   ]
  },
  {
   "attachments": {},
   "cell_type": "markdown",
   "metadata": {},
   "source": [
    "# Naive Bayes"
   ]
  },
  {
   "cell_type": "code",
   "execution_count": 7,
   "metadata": {},
   "outputs": [
    {
     "name": "stdout",
     "output_type": "stream",
     "text": [
      "Naive Bayes Accuracy: 81.00%\n"
     ]
    }
   ],
   "source": [
    "\n",
    "naive_bayes = naive_bayes.MultinomialNB(alpha=0.6)\n",
    "\n",
    "naive_bayes.fit(X_Train, Y_Train)\n",
    "\n",
    "test_predicted_labels = naive_bayes.predict(X_Test)\n",
    "\n",
    "naive_bayesAccuracy = accuracy_score(Y_Test, test_predicted_labels)\n",
    "\n",
    "print(f'Naive Bayes Accuracy: {naive_bayesAccuracy * 100:.2f}%')\n",
    "\n",
    "\n",
    "#Naive Bayes Accuracy: 81.00%"
   ]
  },
  {
   "attachments": {},
   "cell_type": "markdown",
   "metadata": {},
   "source": [
    "## Bar graph for used models to visualize accuracies"
   ]
  },
  {
   "cell_type": "code",
   "execution_count": 8,
   "metadata": {},
   "outputs": [
    {
     "data": {
      "image/png": "[encoded data removed]",
      "text/plain": [
       "<Figure size 432x288 with 1 Axes>"
      ]
     },
     "metadata": {
      "needs_background": "light"
     },
     "output_type": "display_data"
    }
   ],
   "source": [
    "labels = ['Logistic Regression', 'SVM', 'Linear SVM', 'Naive Bayes']\n",
    "\n",
    "accuracy = [LogisticAccuracy * 100, svmAccuracy * 100, linear_svmAccuracy * 100, naive_bayesAccuracy * 100]\n",
    "plt.bar(labels, accuracy, width=0.1)\n",
    "plt.title('Models Accuracy')\n",
    "plt.xlabel('Model')\n",
    "plt.ylabel('Accuracy')\n",
    "plt.show()\n"
   ]
  }
 ],
 "metadata": {
  "kernelspec": {
   "display_name": "nlp_env",
   "language": "python",
   "name": "python3"
  },
  "language_info": {
   "codemirror_mode": {
    "name": "ipython",
    "version": 3
   },
   "file_extension": ".py",
   "mimetype": "text/x-python",
   "name": "python",
   "nbconvert_exporter": "python",
   "pygments_lexer": "ipython3",
   "version": "3.6.13"
  },
  "orig_nbformat": 4
 },
 "nbformat": 4,
 "nbformat_minor": 2
}
